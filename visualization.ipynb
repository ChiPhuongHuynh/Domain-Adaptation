{
 "cells": [
  {
   "cell_type": "code",
   "execution_count": 3,
   "id": "25e98947",
   "metadata": {},
   "outputs": [],
   "source": [
    "import torch\n",
    "from utils.plotting import plot_latent_tsne_grid\n",
    "from models.models import SplitEncoder, SplitDecoder\n",
    "from data.loader import get_dataloader\n",
    "from utils.seed import set_seed"
   ]
  },
  {
   "cell_type": "code",
   "execution_count": 11,
   "id": "d5c6f58e-ab76-42ff-8f17-aa9d03a2c8ff",
   "metadata": {},
   "outputs": [],
   "source": [
    "set_seed(42)\n",
    "device = torch.device(\"cuda\" if torch.cuda.is_available() else \"cpu\")"
   ]
  },
  {
   "cell_type": "code",
   "execution_count": 12,
   "id": "ba244fa1",
   "metadata": {},
   "outputs": [],
   "source": [
    "input_dim = 784\n",
    "output_dim = 784\n",
    "latent_dim = 64\n",
    "signal_dim = 32\n",
    "num_classes = 10\n",
    "\n",
    "encoder = SplitEncoder(input_dim=input_dim, latent_dim=latent_dim, signal_dim=signal_dim).to(device)\n",
    "decoder = SplitDecoder(latent_dim=latent_dim, output_dim=output_dim).to(device)"
   ]
  },
  {
   "cell_type": "code",
   "execution_count": 13,
   "id": "a8c68d99",
   "metadata": {},
   "outputs": [
    {
     "data": {
      "text/plain": [
       "<All keys matched successfully>"
      ]
     },
     "execution_count": 13,
     "metadata": {},
     "output_type": "execute_result"
    }
   ],
   "source": [
    "ckpt = torch.load(\"artifacts/mnist/mnist_pretrained.pt\", map_location=device)\n",
    "encoder.load_state_dict(ckpt[\"encoder\"])\n",
    "decoder.load_state_dict(ckpt[\"decoder\"])"
   ]
  },
  {
   "cell_type": "code",
   "execution_count": 14,
   "id": "0decbbbd",
   "metadata": {},
   "outputs": [],
   "source": [
    "loader = get_dataloader(\"mnist\", batch_size=256, train=False)"
   ]
  },
  {
   "cell_type": "code",
   "execution_count": 15,
   "id": "21119e47",
   "metadata": {},
   "outputs": [
    {
     "name": "stdout",
     "output_type": "stream",
     "text": [
      "[t-SNE] Running joint projection...\n",
      "✅ t-SNE plot saved to artifacts/plots/mnist_latent_grid.png\n"
     ]
    }
   ],
   "source": [
    "plot_latent_tsne_grid(\n",
    "    encoder=encoder,\n",
    "    decoder=decoder,\n",
    "    dataloader=loader,\n",
    "    device=device,\n",
    "    save_path=\"artifacts/plots/mnist_latent_grid.png\",\n",
    "    n_samples=1000,\n",
    "    title_prefix=\"MNIST Pretrained Model\"\n",
    ")"
   ]
  }
 ],
 "metadata": {
  "kernelspec": {
   "display_name": "align",
   "language": "python",
   "name": "python3"
  },
  "language_info": {
   "codemirror_mode": {
    "name": "ipython",
    "version": 3
   },
   "file_extension": ".py",
   "mimetype": "text/x-python",
   "name": "python",
   "nbconvert_exporter": "python",
   "pygments_lexer": "ipython3",
   "version": "3.10.12"
  }
 },
 "nbformat": 4,
 "nbformat_minor": 5
}
