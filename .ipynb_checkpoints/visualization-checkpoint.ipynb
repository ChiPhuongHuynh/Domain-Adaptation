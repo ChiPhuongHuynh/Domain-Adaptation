{
 "cells": [
  {
   "cell_type": "code",
   "execution_count": null,
   "id": "25e98947",
   "metadata": {
    "vscode": {
     "languageId": "plaintext"
    }
   },
   "outputs": [],
   "source": [
    "from utils.plotting import visualize_latent"
   ]
  }
 ],
 "metadata": {
  "language_info": {
   "name": "python"
  }
 },
 "nbformat": 4,
 "nbformat_minor": 5
}
